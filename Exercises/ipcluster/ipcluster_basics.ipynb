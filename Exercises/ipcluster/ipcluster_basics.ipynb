{
 "metadata": {
  "name": "ipcluster_basics"
 },
 "nbformat": 3,
 "nbformat_minor": 0,
 "worksheets": [
  {
   "cells": [
    {
     "cell_type": "markdown",
     "metadata": {},
     "source": [
      "#IPCluster Basics\n",
      "\n",
      "##SciPy 2013, Data Processing Tutorial\n",
      "\n",
      "###This notebook shows a quick example using `apply`, `push`, `pull`, `execute`, and `sync_imports` in IPCluster.\n",
      "\n",
      "#### Check out [Ian Stokes's IPCluster notebook](https://www.wakari.io/sharing/bundle/ijstokes/ipcluster-wakari-intro) for a more comprehensive intro."
     ]
    },
    {
     "cell_type": "code",
     "collapsed": false,
     "input": [
      "from IPython.parallel import Client"
     ],
     "language": "python",
     "metadata": {},
     "outputs": [],
     "prompt_number": 1
    },
    {
     "cell_type": "markdown",
     "metadata": {},
     "source": [
      "Create the client object and construct a view"
     ]
    },
    {
     "cell_type": "code",
     "collapsed": false,
     "input": [
      "client = Client('wakari_scipy_cluster.json', sshkey='/etc/ssh/wakari', packer='pickle')\n",
      "\n",
      "direct = client[:]"
     ],
     "language": "python",
     "metadata": {},
     "outputs": [],
     "prompt_number": 2
    },
    {
     "cell_type": "markdown",
     "metadata": {},
     "source": [
      "Define a function"
     ]
    },
    {
     "cell_type": "code",
     "collapsed": false,
     "input": [
      "def hello():\n",
      "    return \"Hello World!\""
     ],
     "language": "python",
     "metadata": {},
     "outputs": [],
     "prompt_number": 3
    },
    {
     "cell_type": "markdown",
     "metadata": {},
     "source": [
      "Execute the function on the remote nodes"
     ]
    },
    {
     "cell_type": "code",
     "collapsed": false,
     "input": [
      "resp = direct.apply(hello)"
     ],
     "language": "python",
     "metadata": {},
     "outputs": [],
     "prompt_number": 4
    },
    {
     "cell_type": "markdown",
     "metadata": {},
     "source": [
      "Get the output from the remote nodes"
     ]
    },
    {
     "cell_type": "code",
     "collapsed": false,
     "input": [
      "resp"
     ],
     "language": "python",
     "metadata": {},
     "outputs": [
      {
       "output_type": "pyout",
       "prompt_number": 5,
       "text": [
        "<AsyncResult: hello>"
       ]
      }
     ],
     "prompt_number": 5
    },
    {
     "cell_type": "code",
     "collapsed": false,
     "input": [
      "resp.get()"
     ],
     "language": "python",
     "metadata": {},
     "outputs": [
      {
       "output_type": "pyout",
       "prompt_number": 6,
       "text": [
        "['Hello World!', 'Hello World!', 'Hello World!', 'Hello World!']"
       ]
      }
     ],
     "prompt_number": 6
    },
    {
     "cell_type": "markdown",
     "metadata": {},
     "source": [
      "By default, `apply` is non-blocking: it will move on without waiting for the remote nodes to finish, hence the need for the `get()`. We can change to blocking calls instead if we wish:"
     ]
    },
    {
     "cell_type": "code",
     "collapsed": false,
     "input": [
      "direct.block = True"
     ],
     "language": "python",
     "metadata": {},
     "outputs": [],
     "prompt_number": 7
    },
    {
     "cell_type": "code",
     "collapsed": false,
     "input": [
      "resp = direct.apply(hello)"
     ],
     "language": "python",
     "metadata": {},
     "outputs": [],
     "prompt_number": 8
    },
    {
     "cell_type": "code",
     "collapsed": false,
     "input": [
      "resp"
     ],
     "language": "python",
     "metadata": {},
     "outputs": [
      {
       "output_type": "pyout",
       "prompt_number": 9,
       "text": [
        "['Hello World!', 'Hello World!', 'Hello World!', 'Hello World!']"
       ]
      }
     ],
     "prompt_number": 9
    },
    {
     "cell_type": "code",
     "collapsed": false,
     "input": [
      "resp.get()"
     ],
     "language": "python",
     "metadata": {},
     "outputs": [
      {
       "ename": "AttributeError",
       "evalue": "'list' object has no attribute 'get'",
       "output_type": "pyerr",
       "traceback": [
        "\u001b[1;31m---------------------------------------------------------------------------\u001b[0m\n\u001b[1;31mAttributeError\u001b[0m                            Traceback (most recent call last)",
        "\u001b[1;32m<ipython-input-10-d454cc2f18ca>\u001b[0m in \u001b[0;36m<module>\u001b[1;34m()\u001b[0m\n\u001b[1;32m----> 1\u001b[1;33m \u001b[0mresp\u001b[0m\u001b[1;33m.\u001b[0m\u001b[0mget\u001b[0m\u001b[1;33m(\u001b[0m\u001b[1;33m)\u001b[0m\u001b[1;33m\u001b[0m\u001b[0m\n\u001b[0m",
        "\u001b[1;31mAttributeError\u001b[0m: 'list' object has no attribute 'get'"
       ]
      }
     ],
     "prompt_number": 10
    },
    {
     "cell_type": "markdown",
     "metadata": {},
     "source": [
      "Note the different behavior of the response object with a blocking call.\n",
      "\n",
      "We can add variables, functions, or any other picklable object to the remote nodes' namespace."
     ]
    },
    {
     "cell_type": "code",
     "collapsed": false,
     "input": [
      "a = 4\n",
      "\n",
      "def square(num):\n",
      "    return num ** 2\n",
      "\n",
      "direct.push({'a':a,'square':square})"
     ],
     "language": "python",
     "metadata": {},
     "outputs": [
      {
       "output_type": "pyout",
       "prompt_number": 11,
       "text": [
        "[None, None, None, None]"
       ]
      }
     ],
     "prompt_number": 11
    },
    {
     "cell_type": "markdown",
     "metadata": {},
     "source": [
      "The `execute` command evals a string on the remote nodes,"
     ]
    },
    {
     "cell_type": "code",
     "collapsed": false,
     "input": [
      "direct.execute(\"b = square(a)\")"
     ],
     "language": "python",
     "metadata": {},
     "outputs": [
      {
       "output_type": "pyout",
       "prompt_number": 12,
       "text": [
        "<AsyncResult: finished>"
       ]
      }
     ],
     "prompt_number": 12
    },
    {
     "cell_type": "markdown",
     "metadata": {},
     "source": [
      "and `pull` grabs objects from the remote nodes' namespaces."
     ]
    },
    {
     "cell_type": "code",
     "collapsed": false,
     "input": [
      "resp = direct.pull('b')\n",
      "\n",
      "resp"
     ],
     "language": "python",
     "metadata": {},
     "outputs": [
      {
       "output_type": "pyout",
       "prompt_number": 13,
       "text": [
        "[16, 16, 16, 16]"
       ]
      }
     ],
     "prompt_number": 13
    },
    {
     "cell_type": "markdown",
     "metadata": {},
     "source": [
      "Try out the following:"
     ]
    },
    {
     "cell_type": "code",
     "collapsed": false,
     "input": [
      "import datetime\n",
      "\n",
      "def thetime():\n",
      "    return str(datetime.datetime.now())\n",
      "\n",
      "direct.push({'thetime':thetime})\n",
      "\n",
      "direct.execute(\"t = thetime()\")"
     ],
     "language": "python",
     "metadata": {},
     "outputs": [
      {
       "ename": "CompositeError",
       "evalue": "one or more exceptions from call to method: execute\n[0:execute]: NameError: global name 'datetime' is not defined\n[1:execute]: NameError: global name 'datetime' is not defined\n[2:execute]: NameError: global name 'datetime' is not defined\n[3:execute]: NameError: global name 'datetime' is not defined",
       "output_type": "pyerr",
       "traceback": [
        "[0:execute]: ",
        "\u001b[1;31m---------------------------------------------------------------------------\u001b[0m",
        "\u001b[1;31mNameError\u001b[0m                                 Traceback (most recent call last)\u001b[1;32m<ipython-input-1-b8f1333c750d>\u001b[0m in \u001b[0;36m<module>\u001b[1;34m()\u001b[0m",
        "\u001b[1;32m----> 1\u001b[1;33m \u001b[0mt\u001b[0m \u001b[1;33m=\u001b[0m \u001b[0mthetime\u001b[0m\u001b[1;33m(\u001b[0m\u001b[1;33m)\u001b[0m\u001b[1;33m\u001b[0m\u001b[0m",
        "\u001b[0m\u001b[1;32m<ipython-input-14-11f34a55f247>\u001b[0m in \u001b[0;36mthetime\u001b[1;34m()\u001b[0m",
        "\u001b[1;31mNameError\u001b[0m: global name 'datetime' is not defined",
        "",
        "[1:execute]: ",
        "\u001b[1;31m---------------------------------------------------------------------------\u001b[0m",
        "\u001b[1;31mNameError\u001b[0m                                 Traceback (most recent call last)\u001b[1;32m<ipython-input-1-b8f1333c750d>\u001b[0m in \u001b[0;36m<module>\u001b[1;34m()\u001b[0m",
        "\u001b[1;32m----> 1\u001b[1;33m \u001b[0mt\u001b[0m \u001b[1;33m=\u001b[0m \u001b[0mthetime\u001b[0m\u001b[1;33m(\u001b[0m\u001b[1;33m)\u001b[0m\u001b[1;33m\u001b[0m\u001b[0m",
        "\u001b[0m\u001b[1;32m<ipython-input-14-11f34a55f247>\u001b[0m in \u001b[0;36mthetime\u001b[1;34m()\u001b[0m",
        "\u001b[1;31mNameError\u001b[0m: global name 'datetime' is not defined",
        "",
        "[2:execute]: ",
        "\u001b[1;31m---------------------------------------------------------------------------\u001b[0m",
        "\u001b[1;31mNameError\u001b[0m                                 Traceback (most recent call last)\u001b[1;32m<ipython-input-1-b8f1333c750d>\u001b[0m in \u001b[0;36m<module>\u001b[1;34m()\u001b[0m",
        "\u001b[1;32m----> 1\u001b[1;33m \u001b[0mt\u001b[0m \u001b[1;33m=\u001b[0m \u001b[0mthetime\u001b[0m\u001b[1;33m(\u001b[0m\u001b[1;33m)\u001b[0m\u001b[1;33m\u001b[0m\u001b[0m",
        "\u001b[0m\u001b[1;32m<ipython-input-14-11f34a55f247>\u001b[0m in \u001b[0;36mthetime\u001b[1;34m()\u001b[0m",
        "\u001b[1;31mNameError\u001b[0m: global name 'datetime' is not defined",
        "",
        "[3:execute]: ",
        "\u001b[1;31m---------------------------------------------------------------------------\u001b[0m",
        "\u001b[1;31mNameError\u001b[0m                                 Traceback (most recent call last)\u001b[1;32m<ipython-input-1-b8f1333c750d>\u001b[0m in \u001b[0;36m<module>\u001b[1;34m()\u001b[0m",
        "\u001b[1;32m----> 1\u001b[1;33m \u001b[0mt\u001b[0m \u001b[1;33m=\u001b[0m \u001b[0mthetime\u001b[0m\u001b[1;33m(\u001b[0m\u001b[1;33m)\u001b[0m\u001b[1;33m\u001b[0m\u001b[0m",
        "\u001b[0m\u001b[1;32m<ipython-input-14-11f34a55f247>\u001b[0m in \u001b[0;36mthetime\u001b[1;34m()\u001b[0m",
        "\u001b[1;31mNameError\u001b[0m: global name 'datetime' is not defined",
        ""
       ]
      }
     ],
     "prompt_number": 14
    },
    {
     "cell_type": "markdown",
     "metadata": {},
     "source": [
      "Since the remote nodes have their own namespace, we need to import modules differently. The following cell imports a module into the local and remote namespaces."
     ]
    },
    {
     "cell_type": "code",
     "collapsed": false,
     "input": [
      "with direct.sync_imports():\n",
      "    import datetime\n",
      "    \n",
      "direct.execute(\"t = thetime()\")\n",
      "\n",
      "direct.pull('t')"
     ],
     "language": "python",
     "metadata": {},
     "outputs": [
      {
       "output_type": "stream",
       "stream": "stdout",
       "text": [
        "importing datetime on engine(s)\n"
       ]
      },
      {
       "output_type": "pyout",
       "prompt_number": 15,
       "text": [
        "['2013-06-24 03:50:31.841999',\n",
        " '2013-06-24 03:50:31.843591',\n",
        " '2013-06-24 03:50:31.844229',\n",
        " '2013-06-24 03:50:31.846043']"
       ]
      }
     ],
     "prompt_number": 15
    },
    {
     "cell_type": "markdown",
     "metadata": {},
     "source": [
      "Since `execute` runs any evalable code, one could use this to import a module to the remote namespace, but `sync_imports` is strictly better."
     ]
    },
    {
     "cell_type": "code",
     "collapsed": false,
     "input": [
      "direct.execute(\"\"\"import datetime\n",
      "t = thetime()\"\"\")\n",
      "\n",
      "direct.pull('t')"
     ],
     "language": "python",
     "metadata": {},
     "outputs": [
      {
       "output_type": "pyout",
       "prompt_number": 16,
       "text": [
        "['2013-06-24 03:50:32.915796',\n",
        " '2013-06-24 03:50:32.916721',\n",
        " '2013-06-24 03:50:32.916840',\n",
        " '2013-06-24 03:50:32.919731']"
       ]
      }
     ],
     "prompt_number": 16
    },
    {
     "cell_type": "code",
     "collapsed": false,
     "input": [],
     "language": "python",
     "metadata": {},
     "outputs": []
    }
   ],
   "metadata": {}
  }
 ]
}